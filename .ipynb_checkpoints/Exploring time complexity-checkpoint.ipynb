{
 "cells": [
  {
   "cell_type": "markdown",
   "metadata": {},
   "source": [
    "Time complexity refers to the number of steps an algorithm takes, and how that grows with increasing input size, in the worst case scenario.  This notebook will explore how time complexity is reflected in actual time taken"
   ]
  },
  {
   "cell_type": "code",
   "execution_count": 1,
   "metadata": {
    "collapsed": true
   },
   "outputs": [],
   "source": [
    "from altair import Chart\n",
    "import pandas as pd\n",
    "import random, timeit\n",
    "import selection_sort, quick_sort\n"
   ]
  },
  {
   "cell_type": "code",
   "execution_count": 2,
   "metadata": {
    "collapsed": true
   },
   "outputs": [],
   "source": [
    "list_lengths = [i for i in range(1, 10000, 100)] \n",
    "selection_sort_times = []\n",
    "quicksort1_times = [] #with pivot as first item in the array\n",
    "quicksort2_times = [] #with pivot as middle item\n",
    "\n",
    "def create_list(length):\n",
    "    new_list = []\n",
    "    for i in range(length):\n",
    "        new_number = random.randint(0, 100)\n",
    "        new_list.append(new_number)\n",
    "    return new_list\n",
    "\n",
    "def selectionsort(current_list):\n",
    "    selection_sort.selection_sort(current_list)\n",
    "\n",
    "def quicksort1(current_list):\n",
    "    quick_sort.quick_sort1(current_list)\n",
    "    \n",
    "def quicksort2(current_list):\n",
    "    quick_sort.quick_sort2(current_list)"
   ]
  },
  {
   "cell_type": "code",
   "execution_count": null,
   "metadata": {},
   "outputs": [],
   "source": [
    "for length in list_lengths:\n",
    "    current_list = create_list(length)\n",
    "    #selection_sort_time_taken = timeit.timeit(\"selectionsort(current_list)\", setup=\"from __main__ import selectionsort, current_list\", number=1)\n",
    "    quicksort1_time_taken = timeit.timeit(\"quicksort1(current_list)\", setup=\"from __main__ import quicksort1, current_list\", number=1)\n",
    "    quicksort2_time_taken = timeit.timeit(\"quicksort2(current_list)\", setup=\"from __main__ import quicksort2, current_list\", number=1)\n",
    "    #print('selection: ', selection_sort_time_taken, 'quicksort: ', quicksort_time_taken )\n",
    "    #selection_sort_times.append(selection_sort_time_taken)\n",
    "    quicksort1_times.append(quicksort1_time_taken)\n",
    "    quicksort2_times.append(quicksort2_time_taken)\n"
   ]
  },
  {
   "cell_type": "code",
   "execution_count": null,
   "metadata": {},
   "outputs": [],
   "source": [
    "\n",
    "#selection_sort_df = pd.DataFrame({\"length\": list_lengths, \"time taken\": selection_sort_times})\n",
    "quicksort1_df = pd.DataFrame({\"length\": list_lengths, \"time taken\": quicksort1_times})\n",
    "quicksort2_df = pd.DataFrame({\"length\": list_lengths, \"time taken\": quicksort2_times})\n",
    "#selection_sort_df['Key'] = 'Selection sort'\n",
    "quicksort1_df['Key'] = 'Quicksort1'\n",
    "quicksort2_df['Key'] = 'Quicksort2'\n",
    "\n",
    "compare_algorithms_df = pd.concat([quicksort1_df, quicksort2_df]) #selection_sort_df)]\n",
    "chart = Chart(compare_algorithms_df)\n",
    "chart.mark_line().mark_point().encode(x='length', y='time taken', color='Key')"
   ]
  },
  {
   "cell_type": "code",
   "execution_count": null,
   "metadata": {
    "collapsed": true
   },
   "outputs": [],
   "source": []
  },
  {
   "cell_type": "code",
   "execution_count": null,
   "metadata": {
    "collapsed": true
   },
   "outputs": [],
   "source": []
  }
 ],
 "metadata": {
  "kernelspec": {
   "display_name": "Python 2",
   "language": "python",
   "name": "python2"
  },
  "language_info": {
   "codemirror_mode": {
    "name": "ipython",
    "version": 2
   },
   "file_extension": ".py",
   "mimetype": "text/x-python",
   "name": "python",
   "nbconvert_exporter": "python",
   "pygments_lexer": "ipython2",
   "version": "2.7.12"
  }
 },
 "nbformat": 4,
 "nbformat_minor": 2
}
